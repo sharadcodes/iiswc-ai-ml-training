{
 "cells": [
  {
   "cell_type": "markdown",
   "metadata": {},
   "source": [
    "# SARIMA Model for Time Series Forecasting"
   ]
  },
  {
   "cell_type": "code",
   "execution_count": 1,
   "metadata": {},
   "outputs": [],
   "source": [
    "# import all the necessary libraries\n",
    "import pandas as pd\n",
    "import numpy as np\n",
    "import matplotlib.pyplot as plt\n",
    "# for sarima model not sariamx\n",
    "from statsmodels.tsa.statespace.sarimax import SARIMAX\n",
    "from statsmodels.tsa.seasonal import seasonal_decompose\n",
    "from sklearn.metrics import mean_squared_error\n",
    "from math import sqrt\n",
    "from statsmodels.tsa.stattools import adfuller\n",
    "from statsmodels.tsa.stattools import acf,pacf\n",
    "from statsmodels.graphics.tsaplots import plot_acf,plot_pacf"
   ]
  },
  {
   "cell_type": "code",
   "execution_count": 2,
   "metadata": {},
   "outputs": [
    {
     "data": {
      "text/plain": [
       "<bound method DataFrame.value_counts of            date  dbi_8.30  wbi_8.30  dbii_14.20  wbii_14.20  max_temp  \\\n",
       "s.no                                                                    \n",
       "1    1980-01-01      52.0       8.2        18.6        11.4      22.8   \n",
       "2    1980-01-02      12.2       4.0        20.4        12.0      20.8   \n",
       "3    1980-01-03      11.3       3.4        19.6        10.4      21.8   \n",
       "4    1980-01-04      13.4       4.6        18.4        10.4      20.7   \n",
       "5    1980-01-05      12.0       4.6        19.2        11.4      19.4   \n",
       "...         ...       ...       ...         ...         ...       ...   \n",
       "27   1961-12-27       8.8       7.6        15.6        14.5      18.6   \n",
       "28   1961-12-28       7.2       4.6        15.0         6.7      17.1   \n",
       "29   1961-12-29       9.3       8.9        17.2        13.9      16.8   \n",
       "30   1961-12-30      12.1      12.0        16.5        13.9      18.9   \n",
       "31   1961-12-31      11.0      10.4        18.2        13.9      17.7   \n",
       "\n",
       "      min_temp  rhi_8.30  rhii_14.20    ws   bss  rain  evp  month  year  \n",
       "s.no                                                                      \n",
       "1          8.0      52.0        41.0   2.9   9.6   0.0  5.1      1  1980  \n",
       "2          7.9      21.0        36.0   1.3   9.7   0.0  4.1      1  1980  \n",
       "3          8.9      18.0        29.0   1.4  10.0   0.0  4.8      1  1980  \n",
       "4          7.9      19.0        35.0   1.4   9.6   0.0  3.4      1  1980  \n",
       "5          7.9      27.0        38.0   1.6   9.7   0.0  6.6      1  1980  \n",
       "...        ...       ...         ...   ...   ...   ...  ...    ...   ...  \n",
       "27         5.7      84.0        89.0   7.6   9.8   0.0  1.7     12  1961  \n",
       "28         6.3      68.0        26.0  11.6  10.3   0.0  3.9     12  1961  \n",
       "29         4.9      96.0        70.0  10.0   9.4   0.0  4.9     12  1961  \n",
       "30        10.2      99.0        77.0  10.0   9.0   0.0  1.8     12  1961  \n",
       "31         8.8      94.0        63.0   6.0   0.6   0.0  1.2     12  1961  \n",
       "\n",
       "[7305 rows x 15 columns]>"
      ]
     },
     "execution_count": 2,
     "metadata": {},
     "output_type": "execute_result"
    }
   ],
   "source": [
    "df = pd.read_excel('./cleaned_time_series_data.xlsx', index_col=0)\n",
    "df.value_counts"
   ]
  },
  {
   "cell_type": "code",
   "execution_count": 3,
   "metadata": {},
   "outputs": [
    {
     "name": "stderr",
     "output_type": "stream",
     "text": [
      "e:\\SOFTWARES\\anaconda3\\envs\\major_project_env\\lib\\site-packages\\statsmodels\\tsa\\base\\tsa_model.py:473: ValueWarning: An unsupported index was provided and will be ignored when e.g. forecasting.\n",
      "  self._init_dates(dates, freq)\n",
      "e:\\SOFTWARES\\anaconda3\\envs\\major_project_env\\lib\\site-packages\\statsmodels\\tsa\\base\\tsa_model.py:473: ValueWarning: An unsupported index was provided and will be ignored when e.g. forecasting.\n",
      "  self._init_dates(dates, freq)\n"
     ]
    },
    {
     "name": "stdout",
     "output_type": "stream",
     "text": [
      "1.0810353137941464\n"
     ]
    },
    {
     "name": "stderr",
     "output_type": "stream",
     "text": [
      "e:\\SOFTWARES\\anaconda3\\envs\\major_project_env\\lib\\site-packages\\statsmodels\\tsa\\base\\tsa_model.py:836: ValueWarning: No supported index is available. Prediction results will be given with an integer index beginning at `start`.\n",
      "  return get_prediction_index(\n",
      "e:\\SOFTWARES\\anaconda3\\envs\\major_project_env\\lib\\site-packages\\statsmodels\\tsa\\base\\tsa_model.py:836: FutureWarning: No supported index is available. In the next version, calling this method in a model without a supported index will result in an exception.\n",
      "  return get_prediction_index(\n",
      "e:\\SOFTWARES\\anaconda3\\envs\\major_project_env\\lib\\site-packages\\statsmodels\\tsa\\statespace\\representation.py:374: FutureWarning: Unknown keyword arguments: dict_keys(['typ']).Passing unknown keyword arguments will raise a TypeError beginning in version 0.15.\n",
      "  warnings.warn(msg, FutureWarning)\n"
     ]
    }
   ],
   "source": [
    "from sklearn.metrics import mean_squared_error\n",
    "import numpy as np\n",
    "\n",
    "# Assuming actual values are stored in a pandas Series called 'actual'\n",
    "actual = df['evp']\n",
    "\n",
    "# Calculate predictions using the SARIMAX model to predict 'evp'\n",
    "# the data is seasonal with a period of 12 month\n",
    "\n",
    "sarimax = SARIMAX(df['evp'], order=(1,1,1), seasonal_order=(1,1,1,12))\n",
    "sarimax_fit = sarimax.fit()\n",
    "predictions = sarimax_fit.predict(start=len(df), end=len(df)+11, dynamic=False, typ='levels').rename('SARIMAX Predictions')\n",
    "\n",
    "# Calculate error\n",
    "mse = mean_squared_error(df['evp'][-12:], predictions)\n",
    "rmse = sqrt(mse)\n",
    "print(rmse)"
   ]
  },
  {
   "cell_type": "code",
   "execution_count": 52,
   "metadata": {},
   "outputs": [],
   "source": [
    "# import pandas as pd\n",
    "# import numpy as np\n",
    "# import matplotlib.pyplot as plt\n",
    "# from pmdarima import auto_arima\n",
    "# from statsmodels.tsa.statespace.sarimax import SARIMAX\n",
    "# from sklearn.metrics import mean_squared_error"
   ]
  },
  {
   "cell_type": "code",
   "execution_count": 66,
   "metadata": {},
   "outputs": [
    {
     "data": {
      "text/html": [
       "<div>\n",
       "<style scoped>\n",
       "    .dataframe tbody tr th:only-of-type {\n",
       "        vertical-align: middle;\n",
       "    }\n",
       "\n",
       "    .dataframe tbody tr th {\n",
       "        vertical-align: top;\n",
       "    }\n",
       "\n",
       "    .dataframe thead th {\n",
       "        text-align: right;\n",
       "    }\n",
       "</style>\n",
       "<table border=\"1\" class=\"dataframe\">\n",
       "  <thead>\n",
       "    <tr style=\"text-align: right;\">\n",
       "      <th></th>\n",
       "      <th>dbi_8.30</th>\n",
       "      <th>wbi_8.30</th>\n",
       "      <th>dbii_14.20</th>\n",
       "      <th>wbii_14.20</th>\n",
       "      <th>max_temp</th>\n",
       "      <th>min_temp</th>\n",
       "      <th>rhi_8.30</th>\n",
       "      <th>rhii_14.20</th>\n",
       "      <th>ws</th>\n",
       "      <th>bss</th>\n",
       "      <th>rain</th>\n",
       "      <th>evp</th>\n",
       "    </tr>\n",
       "    <tr>\n",
       "      <th>date</th>\n",
       "      <th></th>\n",
       "      <th></th>\n",
       "      <th></th>\n",
       "      <th></th>\n",
       "      <th></th>\n",
       "      <th></th>\n",
       "      <th></th>\n",
       "      <th></th>\n",
       "      <th></th>\n",
       "      <th></th>\n",
       "      <th></th>\n",
       "      <th></th>\n",
       "    </tr>\n",
       "  </thead>\n",
       "  <tbody>\n",
       "    <tr>\n",
       "      <th>1980-01-01</th>\n",
       "      <td>52.0</td>\n",
       "      <td>8.2</td>\n",
       "      <td>18.6</td>\n",
       "      <td>11.4</td>\n",
       "      <td>22.8</td>\n",
       "      <td>8.0</td>\n",
       "      <td>52.0</td>\n",
       "      <td>41.0</td>\n",
       "      <td>2.9</td>\n",
       "      <td>9.6</td>\n",
       "      <td>0.0</td>\n",
       "      <td>5.1</td>\n",
       "    </tr>\n",
       "    <tr>\n",
       "      <th>1980-01-02</th>\n",
       "      <td>12.2</td>\n",
       "      <td>4.0</td>\n",
       "      <td>20.4</td>\n",
       "      <td>12.0</td>\n",
       "      <td>20.8</td>\n",
       "      <td>7.9</td>\n",
       "      <td>21.0</td>\n",
       "      <td>36.0</td>\n",
       "      <td>1.3</td>\n",
       "      <td>9.7</td>\n",
       "      <td>0.0</td>\n",
       "      <td>4.1</td>\n",
       "    </tr>\n",
       "    <tr>\n",
       "      <th>1980-01-03</th>\n",
       "      <td>11.3</td>\n",
       "      <td>3.4</td>\n",
       "      <td>19.6</td>\n",
       "      <td>10.4</td>\n",
       "      <td>21.8</td>\n",
       "      <td>8.9</td>\n",
       "      <td>18.0</td>\n",
       "      <td>29.0</td>\n",
       "      <td>1.4</td>\n",
       "      <td>10.0</td>\n",
       "      <td>0.0</td>\n",
       "      <td>4.8</td>\n",
       "    </tr>\n",
       "    <tr>\n",
       "      <th>1980-01-04</th>\n",
       "      <td>13.4</td>\n",
       "      <td>4.6</td>\n",
       "      <td>18.4</td>\n",
       "      <td>10.4</td>\n",
       "      <td>20.7</td>\n",
       "      <td>7.9</td>\n",
       "      <td>19.0</td>\n",
       "      <td>35.0</td>\n",
       "      <td>1.4</td>\n",
       "      <td>9.6</td>\n",
       "      <td>0.0</td>\n",
       "      <td>3.4</td>\n",
       "    </tr>\n",
       "    <tr>\n",
       "      <th>1980-01-05</th>\n",
       "      <td>12.0</td>\n",
       "      <td>4.6</td>\n",
       "      <td>19.2</td>\n",
       "      <td>11.4</td>\n",
       "      <td>19.4</td>\n",
       "      <td>7.9</td>\n",
       "      <td>27.0</td>\n",
       "      <td>38.0</td>\n",
       "      <td>1.6</td>\n",
       "      <td>9.7</td>\n",
       "      <td>0.0</td>\n",
       "      <td>6.6</td>\n",
       "    </tr>\n",
       "  </tbody>\n",
       "</table>\n",
       "</div>"
      ],
      "text/plain": [
       "            dbi_8.30  wbi_8.30  dbii_14.20  wbii_14.20  ...   ws   bss  rain  evp\n",
       "date                                                    ...                      \n",
       "1980-01-01      52.0       8.2        18.6        11.4  ...  2.9   9.6   0.0  5.1\n",
       "1980-01-02      12.2       4.0        20.4        12.0  ...  1.3   9.7   0.0  4.1\n",
       "1980-01-03      11.3       3.4        19.6        10.4  ...  1.4  10.0   0.0  4.8\n",
       "1980-01-04      13.4       4.6        18.4        10.4  ...  1.4   9.6   0.0  3.4\n",
       "1980-01-05      12.0       4.6        19.2        11.4  ...  1.6   9.7   0.0  6.6\n",
       "\n",
       "[5 rows x 12 columns]"
      ]
     },
     "execution_count": 66,
     "metadata": {},
     "output_type": "execute_result"
    }
   ],
   "source": [
    "# # Load your dataset (replace 'your_data.csv' with your actual data file)\n",
    "# data = pd.read_excel('./cleaned_time_series_data.xlsx', index_col=0)\n",
    "\n",
    "# data['date'] = pd.to_datetime(data['date'])\n",
    "\n",
    "# data.set_index('date', inplace=True)\n",
    "# data.drop(['month','year'], axis=1, inplace=True)\n",
    "\n",
    "# data.head()"
   ]
  },
  {
   "cell_type": "code",
   "execution_count": 67,
   "metadata": {},
   "outputs": [],
   "source": [
    "# # Split the data into training and testing sets\n",
    "# train_size = int(len(data) * 0.8)\n",
    "# train_data, test_data = data[:train_size], data[train_size:]"
   ]
  },
  {
   "cell_type": "code",
   "execution_count": 68,
   "metadata": {},
   "outputs": [
    {
     "name": "stdout",
     "output_type": "stream",
     "text": [
      "Performing stepwise search to minimize aic\n",
      " ARIMA(2,1,2)(1,0,1)[12] intercept   : AIC=inf, Time=16.63 sec\n",
      " ARIMA(0,1,0)(0,0,0)[12] intercept   : AIC=22913.875, Time=0.09 sec\n",
      " ARIMA(1,1,0)(1,0,0)[12] intercept   : AIC=21717.286, Time=0.86 sec\n",
      " ARIMA(0,1,1)(0,0,1)[12] intercept   : AIC=20860.302, Time=2.47 sec\n",
      " ARIMA(0,1,0)(0,0,0)[12]             : AIC=22911.875, Time=0.11 sec\n",
      " ARIMA(0,1,1)(0,0,0)[12] intercept   : AIC=20863.555, Time=0.71 sec\n",
      " ARIMA(0,1,1)(1,0,1)[12] intercept   : AIC=20856.935, Time=6.28 sec\n",
      " ARIMA(0,1,1)(1,0,0)[12] intercept   : AIC=20860.701, Time=2.17 sec\n",
      " ARIMA(0,1,1)(2,0,1)[12] intercept   : AIC=20855.681, Time=13.73 sec\n",
      " ARIMA(0,1,1)(2,0,0)[12] intercept   : AIC=20854.537, Time=5.70 sec\n",
      " ARIMA(0,1,0)(2,0,0)[12] intercept   : AIC=22910.529, Time=2.70 sec\n",
      " ARIMA(1,1,1)(2,0,0)[12] intercept   : AIC=20735.189, Time=11.38 sec\n",
      " ARIMA(1,1,1)(1,0,0)[12] intercept   : AIC=20743.302, Time=2.58 sec\n",
      " ARIMA(1,1,1)(2,0,1)[12] intercept   : AIC=20736.127, Time=28.55 sec\n",
      " ARIMA(1,1,1)(1,0,1)[12] intercept   : AIC=20737.828, Time=7.85 sec\n",
      " ARIMA(1,1,0)(2,0,0)[12] intercept   : AIC=21712.582, Time=3.26 sec\n",
      " ARIMA(2,1,1)(2,0,0)[12] intercept   : AIC=20686.196, Time=29.15 sec\n",
      " ARIMA(2,1,1)(1,0,0)[12] intercept   : AIC=20693.275, Time=4.15 sec\n",
      " ARIMA(2,1,1)(2,0,1)[12] intercept   : AIC=20687.278, Time=34.50 sec\n",
      " ARIMA(2,1,1)(1,0,1)[12] intercept   : AIC=20690.114, Time=13.46 sec\n",
      " ARIMA(2,1,0)(2,0,0)[12] intercept   : AIC=21315.938, Time=3.69 sec\n",
      " ARIMA(3,1,1)(2,0,0)[12] intercept   : AIC=20671.248, Time=22.52 sec\n",
      " ARIMA(3,1,1)(1,0,0)[12] intercept   : AIC=20676.874, Time=7.68 sec\n",
      " ARIMA(3,1,1)(2,0,1)[12] intercept   : AIC=20672.582, Time=28.58 sec\n",
      " ARIMA(3,1,1)(1,0,1)[12] intercept   : AIC=20675.192, Time=12.72 sec\n",
      " ARIMA(3,1,0)(2,0,0)[12] intercept   : AIC=21147.081, Time=3.93 sec\n",
      " ARIMA(4,1,1)(2,0,0)[12] intercept   : AIC=20670.904, Time=20.83 sec\n",
      " ARIMA(4,1,1)(1,0,0)[12] intercept   : AIC=20676.023, Time=13.20 sec\n",
      " ARIMA(4,1,1)(2,0,1)[12] intercept   : AIC=20672.296, Time=42.50 sec\n",
      " ARIMA(4,1,1)(1,0,1)[12] intercept   : AIC=20674.872, Time=32.62 sec\n",
      " ARIMA(4,1,0)(2,0,0)[12] intercept   : AIC=21032.872, Time=5.53 sec\n",
      " ARIMA(5,1,1)(2,0,0)[12] intercept   : AIC=20670.639, Time=27.53 sec\n",
      " ARIMA(5,1,1)(1,0,0)[12] intercept   : AIC=20675.369, Time=14.27 sec\n",
      " ARIMA(5,1,1)(2,0,1)[12] intercept   : AIC=20672.006, Time=60.01 sec\n",
      " ARIMA(5,1,1)(1,0,1)[12] intercept   : AIC=20674.480, Time=36.17 sec\n",
      " ARIMA(5,1,0)(2,0,0)[12] intercept   : AIC=20972.123, Time=5.30 sec\n",
      " ARIMA(5,1,2)(2,0,0)[12] intercept   : AIC=20670.389, Time=56.62 sec\n",
      " ARIMA(5,1,2)(1,0,0)[12] intercept   : AIC=20677.602, Time=12.96 sec\n",
      " ARIMA(5,1,2)(2,0,1)[12] intercept   : AIC=20673.805, Time=64.06 sec\n",
      " ARIMA(5,1,2)(1,0,1)[12] intercept   : AIC=20676.196, Time=35.62 sec\n",
      " ARIMA(4,1,2)(2,0,0)[12] intercept   : AIC=20675.006, Time=18.46 sec\n",
      " ARIMA(5,1,3)(2,0,0)[12] intercept   : AIC=20672.174, Time=60.99 sec\n",
      " ARIMA(4,1,3)(2,0,0)[12] intercept   : AIC=20670.596, Time=71.90 sec\n",
      " ARIMA(5,1,2)(2,0,0)[12]             : AIC=20668.410, Time=12.78 sec\n",
      " ARIMA(5,1,2)(1,0,0)[12]             : AIC=20672.324, Time=6.60 sec\n",
      " ARIMA(5,1,2)(2,0,1)[12]             : AIC=20669.922, Time=17.02 sec\n",
      " ARIMA(5,1,2)(1,0,1)[12]             : AIC=20672.602, Time=10.05 sec\n",
      " ARIMA(4,1,2)(2,0,0)[12]             : AIC=20671.187, Time=11.47 sec\n",
      " ARIMA(5,1,1)(2,0,0)[12]             : AIC=20668.662, Time=6.20 sec\n",
      " ARIMA(5,1,3)(2,0,0)[12]             : AIC=20669.690, Time=17.93 sec\n",
      " ARIMA(4,1,1)(2,0,0)[12]             : AIC=20668.926, Time=5.60 sec\n",
      " ARIMA(4,1,3)(2,0,0)[12]             : AIC=20668.212, Time=15.55 sec\n",
      " ARIMA(4,1,3)(1,0,0)[12]             : AIC=20671.869, Time=8.51 sec\n",
      " ARIMA(4,1,3)(2,0,1)[12]             : AIC=20669.972, Time=16.52 sec\n",
      " ARIMA(4,1,3)(1,0,1)[12]             : AIC=20672.255, Time=9.27 sec\n",
      " ARIMA(3,1,3)(2,0,0)[12]             : AIC=20736.918, Time=10.45 sec\n",
      " ARIMA(4,1,4)(2,0,0)[12]             : AIC=20670.021, Time=19.03 sec\n"
     ]
    }
   ],
   "source": [
    "# # Use auto_arima to automatically select SARIMA parameters\n",
    "# auto_model = auto_arima(train_data['evp'], seasonal=True, m=12, trace=True)\n",
    "\n",
    "# # Fit SARIMA model with the selected parameters\n",
    "# model = SARIMAX(train_data['evp'],\n",
    "#                 order=auto_model.order,\n",
    "#                 seasonal_order=auto_model.seasonal_order)\n",
    "# results = model.fit(disp=False)"
   ]
  },
  {
   "cell_type": "code",
   "execution_count": null,
   "metadata": {},
   "outputs": [],
   "source": [
    "# # Make predictions on the test set\n",
    "# start = len(train_data)\n",
    "# end = len(train_data) + len(test_data) - 1\n",
    "# predictions = results.predict(start=start, end=end, dynamic=False, typ='levels')"
   ]
  },
  {
   "cell_type": "code",
   "execution_count": null,
   "metadata": {},
   "outputs": [],
   "source": [
    "# # Calculate Mean Squared Error (MSE) to evaluate the model\n",
    "# mse = mean_squared_error(test_data['evp'], predictions)\n",
    "# print(f'Mean Squared Error (MSE): {mse}')"
   ]
  },
  {
   "cell_type": "code",
   "execution_count": null,
   "metadata": {},
   "outputs": [],
   "source": [
    "# # Plot the actual vs. predicted values\n",
    "# plt.figure(figsize=(12, 6))\n",
    "# plt.plot(test_data.index, test_data['evp'], label='Actual')\n",
    "# plt.plot(test_data.index, predictions, label='Predicted', color='red')\n",
    "# plt.legend()\n",
    "# plt.title('Evaporation SARIMA Forecast')\n",
    "# plt.show()"
   ]
  },
  {
   "cell_type": "code",
   "execution_count": null,
   "metadata": {},
   "outputs": [],
   "source": [
    "# for i in range(1,13):\n",
    "#     print(f'evp forecast for {i} month from now: {predictions[i-1]}')"
   ]
  },
  {
   "cell_type": "code",
   "execution_count": null,
   "metadata": {},
   "outputs": [],
   "source": [
    "# # print actual values and predicted values for the last 12 months\n",
    "\n",
    "# combined = pd.concat([test_data['evp'], predictions], axis=1)\n",
    "# combined.columns = ['Actual', 'Predicted']\n",
    "# combined"
   ]
  }
 ],
 "metadata": {
  "kernelspec": {
   "display_name": "major_project_env",
   "language": "python",
   "name": "python3"
  },
  "language_info": {
   "codemirror_mode": {
    "name": "ipython",
    "version": 3
   },
   "file_extension": ".py",
   "mimetype": "text/x-python",
   "name": "python",
   "nbconvert_exporter": "python",
   "pygments_lexer": "ipython3",
   "version": "3.10.13"
  }
 },
 "nbformat": 4,
 "nbformat_minor": 2
}
